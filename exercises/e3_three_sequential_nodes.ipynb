{
 "cells": [
  {
   "cell_type": "markdown",
   "id": "a3f5ff4b",
   "metadata": {},
   "source": [
    "# Three sequential nodes"
   ]
  },
  {
   "cell_type": "code",
   "execution_count": 1,
   "id": "521ed1f1",
   "metadata": {},
   "outputs": [],
   "source": [
    "from typing import TypedDict \n",
    "from langgraph.graph import StateGraph"
   ]
  },
  {
   "cell_type": "code",
   "execution_count": 2,
   "id": "8a6f1def",
   "metadata": {},
   "outputs": [],
   "source": [
    "class AgentState(TypedDict):\n",
    "    name: str\n",
    "    age: str\n",
    "    skills : list\n",
    "    final_result: str"
   ]
  },
  {
   "cell_type": "code",
   "execution_count": 3,
   "id": "389533f0",
   "metadata": {},
   "outputs": [],
   "source": [
    "def first_node(state:AgentState) -> AgentState:\n",
    "    \"\"\"This node will greet the user\"\"\"\n",
    "\n",
    "    state[\"final_result\"] = f\"{state[\"name\"]} welcome to the system!\"\n",
    "    return state\n",
    "\n",
    "def second_node(state:AgentState) -> AgentState:\n",
    "    \"\"\"This node will describe the user's age\"\"\"\n",
    "\n",
    "    state[\"final_result\"] = state[\"final_result\"] + f\" You are {state[\"age\"]} years old!\"\n",
    "    return state\n",
    "\n",
    "\n",
    "def third_node(state:AgentState) -> AgentState:\n",
    "    \"\"\"This node will list the user's skills in a formatted string\"\"\"\n",
    "    state[\"final_result\"] = state[\"final_result\"] + f\" You have skills in: {\", \".join(state[\"skills\"])}\"\n",
    "\n",
    "    return state"
   ]
  },
  {
   "cell_type": "code",
   "execution_count": 4,
   "id": "31556253",
   "metadata": {},
   "outputs": [],
   "source": [
    "graph = StateGraph(AgentState)\n",
    "\n",
    "graph.add_node(\"personalize\", first_node)\n",
    "graph.add_node(\"age_description\", second_node)\n",
    "graph.add_node(\"skills_description\", third_node)\n",
    "\n",
    "graph.set_entry_point(\"personalize\")\n",
    "graph.add_edge(\"personalize\", \"age_description\")\n",
    "graph.add_edge(\"age_description\", \"skills_description\")\n",
    "graph.set_finish_point(\"skills_description\")\n",
    "app = graph.compile()"
   ]
  },
  {
   "cell_type": "code",
   "execution_count": 5,
   "id": "9c658929",
   "metadata": {},
   "outputs": [
    {
     "data": {
      "image/png": "[encoded data removed]",
      "text/plain": [
       "<IPython.core.display.Image object>"
      ]
     },
     "metadata": {},
     "output_type": "display_data"
    }
   ],
   "source": [
    "from IPython.display import Image, display\n",
    "display(Image(app.get_graph().draw_mermaid_png()))"
   ]
  },
  {
   "cell_type": "code",
   "execution_count": 6,
   "id": "ec4166d2",
   "metadata": {},
   "outputs": [],
   "source": [
    "result = app.invoke({\"name\": \"Linda\", \"age\": 31, \"skills\":[\"Python\", \"Machine Learning\", \"LangGraph\"]})"
   ]
  },
  {
   "cell_type": "code",
   "execution_count": 7,
   "id": "dece22c3",
   "metadata": {},
   "outputs": [
    {
     "data": {
      "text/plain": [
       "'Linda welcome to the system! You are 31 years old! You have skills in: Python, Machine Learning, LangGraph'"
      ]
     },
     "execution_count": 7,
     "metadata": {},
     "output_type": "execute_result"
    }
   ],
   "source": [
    "result[\"final_result\"]"
   ]
  }
 ],
 "metadata": {
  "kernelspec": {
   "display_name": "venv",
   "language": "python",
   "name": "python3"
  },
  "language_info": {
   "codemirror_mode": {
    "name": "ipython",
    "version": 3
   },
   "file_extension": ".py",
   "mimetype": "text/x-python",
   "name": "python",
   "nbconvert_exporter": "python",
   "pygments_lexer": "ipython3",
   "version": "3.13.3"
  }
 },
 "nbformat": 4,
 "nbformat_minor": 5
}
